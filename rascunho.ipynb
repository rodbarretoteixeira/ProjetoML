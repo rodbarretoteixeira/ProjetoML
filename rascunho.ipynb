{
 "cells": [
  {
   "cell_type": "code",
   "execution_count": null,
   "id": "57e9def7",
   "metadata": {},
   "outputs": [],
   "source": [
    "sd"
   ]
  }
 ],
 "metadata": {
  "language_info": {
   "name": "python"
  }
 },
 "nbformat": 4,
 "nbformat_minor": 5
}
